{
 "cells": [
  {
   "cell_type": "markdown",
   "metadata": {},
   "source": [
    "The dataset used in this project is the [Home Equity dataset](https://www.kaggle.com/datasets/ajay1735/hmeq-data/data). This dataset contains baseline and loan performance information for 5,960 recent home equity loans. It contains the following columns:\n",
    "<ul>\n",
    "<li>BAD: 1 = client defaulted on loan 0 = loan repaid</li>\n",
    "<li>LOAN: Amount of the loan request</li>\n",
    "<li>MORTDUE: Amount due on existing mortgage</li>\n",
    "<li>VALUE: Value of current property</li>\n",
    "<li>REASON: DebtCon = debt consolidation HomeImp = home improvement</li>\n",
    "<li>JOB: Six occupational categories</li>\n",
    "<li>YOJ: Years at present job</li>\n",
    "<li>DEROG: Number of major derogatory reports</li>\n",
    "<li>DELINQ: Number of delinquent credit lines</li>\n",
    "<li>CLAGE: Age of oldest trade line in months</li>\n",
    "<li>NINQ: Number of recent credit lines</li>\n",
    "<li>CLNO: Number of credit lines</li>\n",
    "<li>DEBTINC: Debt-to-income ratio</li></ul>"
   ]
  }
 ],
 "metadata": {
  "language_info": {
   "name": "python"
  }
 },
 "nbformat": 4,
 "nbformat_minor": 2
}
