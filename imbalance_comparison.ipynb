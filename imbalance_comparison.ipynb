{
 "cells": [
  {
   "cell_type": "code",
   "execution_count": 76,
   "metadata": {},
   "outputs": [],
   "source": [
    "%run ./utility.ipynb"
   ]
  },
  {
   "cell_type": "code",
   "execution_count": 77,
   "metadata": {},
   "outputs": [
    {
     "data": {
      "text/plain": [
       "((1192, 19), (1192, 1))"
      ]
     },
     "execution_count": 77,
     "metadata": {},
     "output_type": "execute_result"
    }
   ],
   "source": [
    "X_test = pd.read_csv('./data/cleaned_X_test.csv')\n",
    "y_test = pd.read_csv('./data/cleaned_y_test.csv')\n",
    "\n",
    "X_test.drop(\"Unnamed: 0\", axis=1, inplace=True)\n",
    "y_test.drop(\"Unnamed: 0\", axis=1, inplace=True)\n",
    "\n",
    "X_test.shape, y_test.shape"
   ]
  },
  {
   "cell_type": "markdown",
   "metadata": {},
   "source": [
    "# Balancing the target class"
   ]
  },
  {
   "cell_type": "code",
   "execution_count": 78,
   "metadata": {},
   "outputs": [],
   "source": [
    "oversample = SMOTE()\n",
    "balanced_X_train, balanced_y_train = oversample.fit_resample(X_train, y_train)"
   ]
  },
  {
   "cell_type": "code",
   "execution_count": 79,
   "metadata": {},
   "outputs": [
    {
     "name": "stdout",
     "output_type": "stream",
     "text": [
      "Value counts imbalanced: BAD\n",
      "0      3816\n",
      "1       950\n",
      "Name: count, dtype: int64\n",
      "Value counts balanced: BAD\n",
      "0      3816\n",
      "1      3816\n",
      "Name: count, dtype: int64\n"
     ]
    }
   ],
   "source": [
    "print(f\"Value counts imbalanced: {y_train.value_counts()}\")\n",
    "print(f\"Value counts balanced: {balanced_y_train.value_counts()}\")"
   ]
  },
  {
   "cell_type": "markdown",
   "metadata": {},
   "source": [
    "# Training de algoritms on imbalanced, balanced and weighted classes"
   ]
  },
  {
   "cell_type": "code",
   "execution_count": 80,
   "metadata": {},
   "outputs": [],
   "source": [
    "classifiers = [\n",
    "    (\"rfc\", RandomForestClassifier()),\n",
    "    (\"log_reg\", LogisticRegression())  \n",
    "]\n",
    "\n",
    "classifier_scores_imbalanced = []\n",
    "classifier_scores_balanced = []\n",
    "\n",
    "for classifier in classifiers:\n",
    "    clf_name = classifier[0]\n",
    "    clf = classifier[1]\n",
    "        \n",
    "    cv_scores_imbalanced = cross_val_score(clf, X_train.values, y_train.values, cv=5)\n",
    "    mean_imbalanced_score = np.mean(cv_scores_imbalanced)\n",
    "    classifier_scores_imbalanced.append((clf_name, clf ,mean_imbalanced_score))\n",
    "    \n",
    "    cv_scores_imbalanced = cross_val_score(clf, balanced_X_train.values, balanced_y_train.values, cv=5)\n",
    "    mean_imbalanced_score = np.mean(cv_scores_imbalanced)\n",
    "    classifier_scores_balanced.append((clf_name, clf ,mean_imbalanced_score))"
   ]
  },
  {
   "cell_type": "code",
   "execution_count": 81,
   "metadata": {},
   "outputs": [],
   "source": [
    "classifiers_balanced = [\n",
    "    (\"rfc\", RandomForestClassifier(class_weight=\"balanced\")),\n",
    "    (\"log_reg\", LogisticRegression(class_weight=\"balanced\"))  \n",
    "]\n",
    "\n",
    "classifier_scores_weighted = []\n",
    "\n",
    "for classifier in classifiers_balanced:\n",
    "    clf_name = classifier[0]\n",
    "    clf = classifier[1]\n",
    "    \n",
    "    cv_scores_imbalanced = cross_val_score(clf, X_train.values, y_train.values, cv=5)\n",
    "    mean_imbalanced_score = np.mean(cv_scores_imbalanced)\n",
    "    classifier_scores_weighted.append((clf_name, clf, mean_imbalanced_score))"
   ]
  },
  {
   "cell_type": "code",
   "execution_count": 82,
   "metadata": {},
   "outputs": [
    {
     "data": {
      "text/plain": [
       "[('rfc', RandomForestClassifier(), 0.9225759545603534),\n",
       " ('log_reg', LogisticRegression(), 0.8333995481553342)]"
      ]
     },
     "execution_count": 82,
     "metadata": {},
     "output_type": "execute_result"
    }
   ],
   "source": [
    "classifier_scores_imbalanced"
   ]
  },
  {
   "cell_type": "code",
   "execution_count": 83,
   "metadata": {},
   "outputs": [
    {
     "data": {
      "text/plain": [
       "[('rfc', RandomForestClassifier(), 0.9634472032896719),\n",
       " ('log_reg', LogisticRegression(), 0.7670414839571849)]"
      ]
     },
     "execution_count": 83,
     "metadata": {},
     "output_type": "execute_result"
    }
   ],
   "source": [
    "classifier_scores_balanced"
   ]
  },
  {
   "cell_type": "code",
   "execution_count": 84,
   "metadata": {},
   "outputs": [
    {
     "data": {
      "text/plain": [
       "[('rfc', RandomForestClassifier(class_weight='balanced'), 0.910824253543373),\n",
       " ('log_reg', LogisticRegression(class_weight='balanced'), 0.7557671790066017)]"
      ]
     },
     "execution_count": 84,
     "metadata": {},
     "output_type": "execute_result"
    }
   ],
   "source": [
    "classifier_scores_weighted"
   ]
  },
  {
   "cell_type": "markdown",
   "metadata": {},
   "source": [
    "We see that the balanced dataset scores best in training"
   ]
  },
  {
   "cell_type": "markdown",
   "metadata": {},
   "source": [
    "# Evaluation"
   ]
  },
  {
   "cell_type": "code",
   "execution_count": 85,
   "metadata": {},
   "outputs": [
    {
     "name": "stdout",
     "output_type": "stream",
     "text": [
      "Imbalanced classes\n",
      "rfc: 0.9211409395973155%\n",
      "log_reg: 0.8330536912751678%\n"
     ]
    }
   ],
   "source": [
    "print(\"Imbalanced classes\")\n",
    "for classifier in classifier_scores_imbalanced:\n",
    "    classifier[1].fit(X_train, y_train)\n",
    "    acc = classifier[1].score(X_test, y_test)\n",
    "    \n",
    "    print(f\"{classifier[0]}: {acc}%\")"
   ]
  },
  {
   "cell_type": "code",
   "execution_count": 86,
   "metadata": {},
   "outputs": [
    {
     "name": "stdout",
     "output_type": "stream",
     "text": [
      "balanced classes\n",
      "rfc: 0.7483221476510067%\n",
      "log_reg: 0.7760067114093959%\n"
     ]
    }
   ],
   "source": [
    "print(\"balanced classes\")\n",
    "for classifier in classifier_scores_balanced:\n",
    "    classifier[1].fit(balanced_X_train, balanced_y_train)\n",
    "    acc = classifier[1].score(X_test, y_test)\n",
    "    \n",
    "    print(f\"{classifier[0]}: {acc}%\")"
   ]
  },
  {
   "cell_type": "code",
   "execution_count": 88,
   "metadata": {},
   "outputs": [
    {
     "name": "stdout",
     "output_type": "stream",
     "text": [
      "weighted algorithms\n",
      "rfc: 0.9186241610738255%\n",
      "log_reg: 0.7625838926174496%\n"
     ]
    }
   ],
   "source": [
    "print(\"weighted algorithms\")\n",
    "for classifier in classifier_scores_weighted:\n",
    "    classifier[1].fit(X_train, y_train)\n",
    "    acc = classifier[1].score(X_test, y_test)\n",
    "    \n",
    "    print(f\"{classifier[0]}: {acc}%\")"
   ]
  },
  {
   "cell_type": "markdown",
   "metadata": {},
   "source": [
    "In evaluation we see that the imbalanced and weighted algorithms score better than the smoted dataset"
   ]
  }
 ],
 "metadata": {
  "kernelspec": {
   "display_name": "ml_proj",
   "language": "python",
   "name": "python3"
  },
  "language_info": {
   "codemirror_mode": {
    "name": "ipython",
    "version": 3
   },
   "file_extension": ".py",
   "mimetype": "text/x-python",
   "name": "python",
   "nbconvert_exporter": "python",
   "pygments_lexer": "ipython3",
   "version": "3.9.18"
  }
 },
 "nbformat": 4,
 "nbformat_minor": 2
}
